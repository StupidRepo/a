{
  "nbformat": 4,
  "nbformat_minor": 0,
  "metadata": {
    "colab": {
      "name": "Download Skillshare Stuff",
      "provenance": [],
      "collapsed_sections": [],
      "include_colab_link": true
    },
    "kernelspec": {
      "name": "python3",
      "display_name": "Python 3"
    },
    "accelerator": "GPU"
  },
  "cells": [
    {
      "cell_type": "markdown",
      "metadata": {
        "id": "view-in-github",
        "colab_type": "text"
      },
      "source": [
        "<a href=\"https://colab.research.google.com/github/StupidRepo/a/blob/main/Download_Skillshare_Stuff.ipynb\" target=\"_parent\"><img src=\"https://colab.research.google.com/assets/colab-badge.svg\" alt=\"Open In Colab\"/></a>"
      ]
    },
    {
      "cell_type": "code",
      "metadata": {
        "id": "xunEYHutBEv_",
        "colab": {
          "base_uri": "https://localhost:8080/",
          "height": 389
        },
        "outputId": "fb757e00-2b39-4a9a-9cc8-1d4be93621c7"
      },
      "source": [
        "#@markdown <h3>Install Requirements [RUN FIRST]</h3>\n",
        "import random, string, urllib.request, json, getpass, os, IPython, uuid\n",
        "import ipywidgets as widgets\n",
        "from google.colab import drive\n",
        "\n",
        "drive.mount('/content/drive')\n",
        "\n",
        "from IPython.display import HTML, clear_output\n",
        "\n",
        "loadingBtn = widgets.Button(description = \"Installing\",\n",
        "                          disabled = True,\n",
        "                          button_style = 'warning', # 'success', 'info', 'warning', 'danger' or '' \n",
        "                          tooltip = \"Installing\",\n",
        "                          icon = 'check')\n",
        "display(loadingBtn)\n",
        "\n",
        "if not os.path.exists(\"/opt/python3.7\"):\n",
        "  get_ipython().system_raw(\"rm -rf /content/sample_data/ && sudo apt update && sudo apt install software-properties-common\")\n",
        "  get_ipython().system_raw(\"sudo add-apt-repository ppa:deadsnakes/ppa\")\n",
        "  get_ipython().system_raw(\"sudo apt install python3.7\")\n",
        "  get_ipython().system_raw(\"sudo apt install python3-pip\")\n",
        "  get_ipython().system_raw(\"python3.7 -m pip install --upgrade pip setuptools wheel\")\n",
        "  get_ipython().system_raw(\"git clone https://github.com/calvinhobbes23/Skillshare-DL.git /root/.Skillshare-DL\")\n",
        "  get_ipython().system_raw(\"rm -r /root/.Skillshare-DL/Skillshare_DL_[KENWAY].ipynb\")\n",
        "  clear_output()\n",
        "\n",
        "try:\n",
        "  get_ipython().system_raw(\"python3.7 -m pip -q install -r /root/.Skillshare-DL/requirements.txt\")\n",
        "  display(HTML(\"<center><h2 style=\\\"font-family:Trebuchet MS;color:#4f8bd6;\\\">Successfully Configured!</h2><br></center>\"))\n",
        "  \n",
        "except:\n",
        "  display(HTML(\"<center><h2 style=\\\"font-family:Trebuchet MS;color:#ff0000;\\\">Error occured!</h2><br></center>\"))"
      ],
      "execution_count": 9,
      "outputs": [
        {
          "output_type": "error",
          "ename": "MessageError",
          "evalue": "ignored",
          "traceback": [
            "\u001b[0;31m---------------------------------------------------------------------------\u001b[0m",
            "\u001b[0;31mMessageError\u001b[0m                              Traceback (most recent call last)",
            "\u001b[0;32m<ipython-input-9-d2f045203aea>\u001b[0m in \u001b[0;36m<module>\u001b[0;34m()\u001b[0m\n\u001b[1;32m      4\u001b[0m \u001b[0;32mfrom\u001b[0m \u001b[0mgoogle\u001b[0m\u001b[0;34m.\u001b[0m\u001b[0mcolab\u001b[0m \u001b[0;32mimport\u001b[0m \u001b[0mdrive\u001b[0m\u001b[0;34m\u001b[0m\u001b[0;34m\u001b[0m\u001b[0m\n\u001b[1;32m      5\u001b[0m \u001b[0;34m\u001b[0m\u001b[0m\n\u001b[0;32m----> 6\u001b[0;31m \u001b[0mdrive\u001b[0m\u001b[0;34m.\u001b[0m\u001b[0mmount\u001b[0m\u001b[0;34m(\u001b[0m\u001b[0;34m'/content/drive'\u001b[0m\u001b[0;34m)\u001b[0m\u001b[0;34m\u001b[0m\u001b[0;34m\u001b[0m\u001b[0m\n\u001b[0m\u001b[1;32m      7\u001b[0m \u001b[0;34m\u001b[0m\u001b[0m\n\u001b[1;32m      8\u001b[0m \u001b[0;32mfrom\u001b[0m \u001b[0mIPython\u001b[0m\u001b[0;34m.\u001b[0m\u001b[0mdisplay\u001b[0m \u001b[0;32mimport\u001b[0m \u001b[0mHTML\u001b[0m\u001b[0;34m,\u001b[0m \u001b[0mclear_output\u001b[0m\u001b[0;34m\u001b[0m\u001b[0;34m\u001b[0m\u001b[0m\n",
            "\u001b[0;32m/usr/local/lib/python3.7/dist-packages/google/colab/drive.py\u001b[0m in \u001b[0;36mmount\u001b[0;34m(mountpoint, force_remount, timeout_ms)\u001b[0m\n\u001b[1;32m    107\u001b[0m       \u001b[0mforce_remount\u001b[0m\u001b[0;34m=\u001b[0m\u001b[0mforce_remount\u001b[0m\u001b[0;34m,\u001b[0m\u001b[0;34m\u001b[0m\u001b[0;34m\u001b[0m\u001b[0m\n\u001b[1;32m    108\u001b[0m       \u001b[0mtimeout_ms\u001b[0m\u001b[0;34m=\u001b[0m\u001b[0mtimeout_ms\u001b[0m\u001b[0;34m,\u001b[0m\u001b[0;34m\u001b[0m\u001b[0;34m\u001b[0m\u001b[0m\n\u001b[0;32m--> 109\u001b[0;31m       ephemeral=True)\n\u001b[0m\u001b[1;32m    110\u001b[0m \u001b[0;34m\u001b[0m\u001b[0m\n\u001b[1;32m    111\u001b[0m \u001b[0;34m\u001b[0m\u001b[0m\n",
            "\u001b[0;32m/usr/local/lib/python3.7/dist-packages/google/colab/drive.py\u001b[0m in \u001b[0;36m_mount\u001b[0;34m(mountpoint, force_remount, timeout_ms, ephemeral)\u001b[0m\n\u001b[1;32m    126\u001b[0m   \u001b[0;32mif\u001b[0m \u001b[0mephemeral\u001b[0m\u001b[0;34m:\u001b[0m\u001b[0;34m\u001b[0m\u001b[0;34m\u001b[0m\u001b[0m\n\u001b[1;32m    127\u001b[0m     _message.blocking_request(\n\u001b[0;32m--> 128\u001b[0;31m         'request_auth', request={'authType': 'dfs_ephemeral'}, timeout_sec=None)\n\u001b[0m\u001b[1;32m    129\u001b[0m \u001b[0;34m\u001b[0m\u001b[0m\n\u001b[1;32m    130\u001b[0m   \u001b[0mmountpoint\u001b[0m \u001b[0;34m=\u001b[0m \u001b[0m_os\u001b[0m\u001b[0;34m.\u001b[0m\u001b[0mpath\u001b[0m\u001b[0;34m.\u001b[0m\u001b[0mexpanduser\u001b[0m\u001b[0;34m(\u001b[0m\u001b[0mmountpoint\u001b[0m\u001b[0;34m)\u001b[0m\u001b[0;34m\u001b[0m\u001b[0;34m\u001b[0m\u001b[0m\n",
            "\u001b[0;32m/usr/local/lib/python3.7/dist-packages/google/colab/_message.py\u001b[0m in \u001b[0;36mblocking_request\u001b[0;34m(request_type, request, timeout_sec, parent)\u001b[0m\n\u001b[1;32m    173\u001b[0m   request_id = send_request(\n\u001b[1;32m    174\u001b[0m       request_type, request, parent=parent, expect_reply=True)\n\u001b[0;32m--> 175\u001b[0;31m   \u001b[0;32mreturn\u001b[0m \u001b[0mread_reply_from_input\u001b[0m\u001b[0;34m(\u001b[0m\u001b[0mrequest_id\u001b[0m\u001b[0;34m,\u001b[0m \u001b[0mtimeout_sec\u001b[0m\u001b[0;34m)\u001b[0m\u001b[0;34m\u001b[0m\u001b[0;34m\u001b[0m\u001b[0m\n\u001b[0m",
            "\u001b[0;32m/usr/local/lib/python3.7/dist-packages/google/colab/_message.py\u001b[0m in \u001b[0;36mread_reply_from_input\u001b[0;34m(message_id, timeout_sec)\u001b[0m\n\u001b[1;32m    104\u001b[0m         reply.get('colab_msg_id') == message_id):\n\u001b[1;32m    105\u001b[0m       \u001b[0;32mif\u001b[0m \u001b[0;34m'error'\u001b[0m \u001b[0;32min\u001b[0m \u001b[0mreply\u001b[0m\u001b[0;34m:\u001b[0m\u001b[0;34m\u001b[0m\u001b[0;34m\u001b[0m\u001b[0m\n\u001b[0;32m--> 106\u001b[0;31m         \u001b[0;32mraise\u001b[0m \u001b[0mMessageError\u001b[0m\u001b[0;34m(\u001b[0m\u001b[0mreply\u001b[0m\u001b[0;34m[\u001b[0m\u001b[0;34m'error'\u001b[0m\u001b[0;34m]\u001b[0m\u001b[0;34m)\u001b[0m\u001b[0;34m\u001b[0m\u001b[0;34m\u001b[0m\u001b[0m\n\u001b[0m\u001b[1;32m    107\u001b[0m       \u001b[0;32mreturn\u001b[0m \u001b[0mreply\u001b[0m\u001b[0;34m.\u001b[0m\u001b[0mget\u001b[0m\u001b[0;34m(\u001b[0m\u001b[0;34m'data'\u001b[0m\u001b[0;34m,\u001b[0m \u001b[0;32mNone\u001b[0m\u001b[0;34m)\u001b[0m\u001b[0;34m\u001b[0m\u001b[0;34m\u001b[0m\u001b[0m\n\u001b[1;32m    108\u001b[0m \u001b[0;34m\u001b[0m\u001b[0m\n",
            "\u001b[0;31mMessageError\u001b[0m: Error: credential propagation was unsuccessful"
          ]
        }
      ]
    },
    {
      "cell_type": "code",
      "metadata": {
        "id": "GMcXn3WTIYfo",
        "colab": {
          "base_uri": "https://localhost:8080/"
        },
        "outputId": "73216b91-f2cc-47ba-a0e0-f354ccfcf7d0"
      },
      "source": [
        "#@markdown <h3>Copy Course(s) to Google Drive</h3>\n",
        "Course_Link = \"https://www.skillshare.com/classes/Lets-build-a-simple-API-in-Node-js/1152066536?via=search-layout-grid\" #@param {type:\"string\"}\n",
        "!python3.7 /root/.Skillshare-DL/dl.py \"$Course_Link\"\n",
        "!zip -r /content/courses.zip /content/Skillshare\n",
        "\n",
        "!mkdir \"/content/drive/My Drive/Courses\"\n",
        "!mv /content/Skillshare \"/content/drive/My Drive/Courses\"\n",
        "\n",
        "#!rm -rf /content/Skillshare/*"
      ],
      "execution_count": 8,
      "outputs": [
        {
          "output_type": "stream",
          "name": "stdout",
          "text": [
            "   \n",
            "                 ____  _    _ _ _     _                          ____  _     \n",
            "                / ___|| | _(_) | |___| |__   __ _ _ __ ___      |  _ \\| |    \n",
            "                \\___ \\| |/ / | | / __| '_ \\ / _` | '__/ _ \\_____| | | | |    \n",
            "                 ___) |   <| | | \\__ \\ | | | (_| | | |  __/_____| |_| | |___ \n",
            "                |____/|_|\\_\\_|_|_|___/_| |_|\\__,_|_|  \\___|     |____/|_____|  \n",
            "                             _ __ ___  _ _  _ _ _  ___  _ _ \n",
            "                            | / /| __>| \\ || | | || . || | |\n",
            "                            |  \\ | _> |   || | | ||   |\\   /\n",
            "                            |_\\_\\|___>|_\\_||__/_/ |_|_| |_| \n",
            "                    \n",
            "                    \n",
            "                        \n",
            "                     ####### #     # ####### #     #    #     #####  #    # \n",
            "                     #     # ##    # #       #     #   # #   #     # #   #  \n",
            "                     #     # # #   # #       #     #  #   #  #       #  #   \n",
            "                     #     # #  #  # #####   ####### #     # #       ###    \n",
            "                     #     # #   # # #       #     # ####### #       #  #   \n",
            "                     #     # #    ## #       #     # #     # #     # #   #  \n",
            "                     ####### #     # ####### #     # #     #  #####  #    # \n",
            "                                                                                                         \n",
            "                \n",
            "Downloading /content/Skillshare/ethandavis/let-s-build-a-simple-api-in-node-js/01 - introduction.mp4...\n",
            "[==================================================]\n",
            "\n",
            "Downloading /content/Skillshare/ethandavis/let-s-build-a-simple-api-in-node-js/02 - setting-up-our-workspace.mp4...\n",
            "[==================================================]\n",
            "\n",
            "Downloading /content/Skillshare/ethandavis/let-s-build-a-simple-api-in-node-js/03 - intro-to-core-modules.mp4...\n",
            "[==================================================]\n",
            "\n",
            "Downloading /content/Skillshare/ethandavis/let-s-build-a-simple-api-in-node-js/04 - intro-to-npm-packages.mp4...\n",
            "[==================================================]\n",
            "\n",
            "Downloading /content/Skillshare/ethandavis/let-s-build-a-simple-api-in-node-js/05 - project-overview.mp4...\n",
            "[==================================================]\n",
            "\n",
            "Downloading /content/Skillshare/ethandavis/let-s-build-a-simple-api-in-node-js/06 - building-the-api.mp4...\n",
            "[==================================================]\n",
            "\n",
            "Downloading /content/Skillshare/ethandavis/let-s-build-a-simple-api-in-node-js/07 - conclusion-sharing-your-project.mp4...\n",
            "[==================================================]\n",
            "\n",
            "updating: content/Skillshare/ (stored 0%)\n",
            "updating: content/Skillshare/ethandavis/ (stored 0%)\n",
            "updating: content/Skillshare/ethandavis/let-s-build-a-simple-api-in-node-js/ (stored 0%)\n",
            "updating: content/Skillshare/ethandavis/let-s-build-a-simple-api-in-node-js/06 - building-the-api.mp4 (deflated 2%)\n",
            "updating: content/Skillshare/ethandavis/let-s-build-a-simple-api-in-node-js/03 - intro-to-core-modules.mp4 (deflated 1%)\n",
            "updating: content/Skillshare/ethandavis/let-s-build-a-simple-api-in-node-js/05 - project-overview.mp4 (deflated 1%)\n",
            "updating: content/Skillshare/ethandavis/let-s-build-a-simple-api-in-node-js/04 - intro-to-npm-packages.mp4 (deflated 1%)\n",
            "updating: content/Skillshare/ethandavis/let-s-build-a-simple-api-in-node-js/07 - conclusion-sharing-your-project.mp4 (deflated 0%)\n",
            "updating: content/Skillshare/ethandavis/let-s-build-a-simple-api-in-node-js/02 - setting-up-our-workspace.mp4 (deflated 0%)\n",
            "updating: content/Skillshare/ethandavis/let-s-build-a-simple-api-in-node-js/01 - introduction.mp4 (deflated 0%)\n",
            "mkdir: cannot create directory ‘/content/drive/My Drive/Courses’: No such file or directory\n",
            "mv: cannot move '/content/Skillshare' to '/content/drive/My Drive/Courses': No such file or directory\n"
          ]
        }
      ]
    }
  ]
}